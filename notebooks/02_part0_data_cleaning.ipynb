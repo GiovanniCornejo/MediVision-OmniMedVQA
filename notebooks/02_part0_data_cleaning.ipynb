{
 "cells": [
  {
   "cell_type": "markdown",
   "id": "0",
   "metadata": {},
   "source": [
    "# OmniMedVQA Data Cleaning for Disease Diagnosis"
   ]
  },
  {
   "cell_type": "code",
   "execution_count": null,
   "id": "1",
   "metadata": {},
   "outputs": [],
   "source": [
    "import pandas as pd\n",
    "\n",
    "import os\n",
    "\n",
    "from src.data import load_omnimed_dataset"
   ]
  },
  {
   "cell_type": "code",
   "execution_count": null,
   "id": "2",
   "metadata": {},
   "outputs": [],
   "source": [
    "# Recombine all splits\n",
    "train_df, val_df, test_df = load_omnimed_dataset()\n",
    "full_df = pd.concat([train_df, val_df, test_df]).reset_index(drop=True)\n",
    "\n",
    "# Columns relevant for cleaning\n",
    "cols_to_clean = ['gt_answer', 'option_A', 'option_B', 'option_C', 'option_D']\n",
    "cleaning_df = full_df[cols_to_clean].copy()\n",
    "\n",
    "print(cleaning_df.head())"
   ]
  },
  {
   "cell_type": "code",
   "execution_count": null,
   "id": "3",
   "metadata": {},
   "outputs": [],
   "source": [
    "# Folder for exploratory outputs\n",
    "export_dir = os.path.join(\"data\", \"exploration_outputs\")\n",
    "os.makedirs(export_dir, exist_ok=True)\n",
    "\n",
    "# Count of unique gt_answers\n",
    "answer_counts = full_df['gt_answer'].value_counts()\n",
    "answer_counts_file = os.path.join(export_dir, \"gt_answer_counts.csv\")\n",
    "answer_counts.to_csv(answer_counts_file, header=True)\n",
    "print(f\"Exported gt_answer counts to {answer_counts_file}\")\n",
    "\n",
    "# Eexport all unique options\n",
    "option_cols = ['option_A', 'option_B', 'option_C', 'option_D']\n",
    "all_options = pd.concat([full_df[col].str.lower().str.strip().str.rstrip(\".\") for col in option_cols])\n",
    "\n",
    "# Count unique options\n",
    "option_counts = all_options.value_counts()\n",
    "\n",
    "# Export to CSV\n",
    "option_counts_file = os.path.join(export_dir, \"all_unique_options.csv\")\n",
    "option_counts.to_csv(option_counts_file, header=[\"count\"])\n",
    "print(f\"Exported all unique options to {option_counts_file}\")\n"
   ]
  },
  {
   "cell_type": "code",
   "execution_count": null,
   "id": "4",
   "metadata": {},
   "outputs": [],
   "source": [
    "answer_counts = full_df['gt_answer'].value_counts()\n",
    "print(answer_counts.head(50))  # Top 50 most frequent\n",
    "print(len(answer_counts))      # Total number of unique answers"
   ]
  },
  {
   "cell_type": "code",
   "execution_count": null,
   "id": "5",
   "metadata": {},
   "outputs": [],
   "source": [
    "rare_answers = answer_counts[answer_counts <= 50]\n",
    "print(rare_answers)"
   ]
  },
  {
   "cell_type": "markdown",
   "id": "6",
   "metadata": {},
   "source": [
    "### Part 1: Converting \"No\" answers to No Finding and \"Yes\" answers to specific labels"
   ]
  },
  {
   "cell_type": "code",
   "execution_count": null,
   "id": "7",
   "metadata": {},
   "outputs": [],
   "source": []
  },
  {
   "cell_type": "markdown",
   "id": "8",
   "metadata": {},
   "source": [
    "### Part 2: Removing punctuation/grammar/useless words in answer choices"
   ]
  },
  {
   "cell_type": "code",
   "execution_count": null,
   "id": "9",
   "metadata": {},
   "outputs": [],
   "source": []
  },
  {
   "cell_type": "markdown",
   "id": "10",
   "metadata": {},
   "source": [
    "### Part 3 Remove rare or problematic labels / options, combine similar labels together if any, decide threshold for what labels show up too little once all other cleaning is done"
   ]
  },
  {
   "cell_type": "code",
   "execution_count": null,
   "id": "11",
   "metadata": {},
   "outputs": [],
   "source": []
  }
 ],
 "metadata": {
  "kernelspec": {
   "display_name": "Python 3 (ipykernel)",
   "language": "python",
   "name": "python3"
  },
  "language_info": {
   "codemirror_mode": {
    "name": "ipython",
    "version": 3
   },
   "file_extension": ".py",
   "mimetype": "text/x-python",
   "name": "python",
   "nbconvert_exporter": "python",
   "pygments_lexer": "ipython3",
   "version": "3.11.8"
  }
 },
 "nbformat": 4,
 "nbformat_minor": 5
}
